{
 "cells": [
  {
   "cell_type": "code",
   "execution_count": null,
   "id": "f63b81ce",
   "metadata": {},
   "outputs": [],
   "source": [
    "import pandas as pd\n",
    "import seaborn as sns\n",
    "from sklearn.model_selection import train_test_split\n",
    "from sklearn.preprocessing import StandardScaler\n",
    "from sklearn.linear_model import LinearRegression\n",
    "from sklearn.metrics import mean_squared_error, accuracy_score\n",
    "from sklearn.tree import DecisionTreeClassifier\n",
    "from sklearn.ensemble import RandomForestClassifier\n",
    "from sklearn import metrics\n",
    "import numpy as np"
   ]
  },
  {
   "cell_type": "code",
   "execution_count": null,
   "id": "43ceef05",
   "metadata": {},
   "outputs": [],
   "source": [
    "train_set = pd.read_csv('./train_values.csv', index_col=0)\n",
    "train_label = pd.read_csv('./train_labels.csv', index_col=0)"
   ]
  },
  {
   "cell_type": "code",
   "execution_count": null,
   "id": "35cc6573",
   "metadata": {},
   "outputs": [],
   "source": [
    "dummy = ['land_surface_condition', 'foundation_type', 'roof_type','ground_floor_type','other_floor_type','position','plan_configuration','legal_ownership_status']\n",
    "dummy_col = pd.get_dummies(train_set[dummy])\n",
    "train_set_combined = pd.concat([train_set, dummy_col],axis=1)\n",
    "train_set_combined.drop(dummy, axis=1, inplace=True)"
   ]
  },
  {
   "cell_type": "code",
   "execution_count": null,
   "id": "cfc31a69",
   "metadata": {},
   "outputs": [],
   "source": [
    "scaler = StandardScaler()\n",
    "train_set_combined[['geo_level_1_id', 'geo_level_2_id' , 'geo_level_3_id', 'age', 'area_percentage', 'height_percentage', 'count_floors_pre_eq']] = scaler.fit_transform(train_set_combined[['geo_level_1_id', 'geo_level_2_id' , 'geo_level_3_id', 'age', 'area_percentage', 'height_percentage', 'count_floors_pre_eq']])"
   ]
  },
  {
   "cell_type": "code",
   "execution_count": null,
   "id": "be735adf",
   "metadata": {},
   "outputs": [],
   "source": [
    "train_set_combined"
   ]
  },
  {
   "cell_type": "code",
   "execution_count": null,
   "id": "3112bd17",
   "metadata": {},
   "outputs": [],
   "source": [
    "X_train, X_test, y_train, y_test = train_test_split(train_set_combined, train_label, test_size=0.2, random_state=42)"
   ]
  },
  {
   "cell_type": "code",
   "execution_count": null,
   "id": "79397ea5",
   "metadata": {},
   "outputs": [],
   "source": [
    "for i in range(1,25,1):\n",
    "    clf = DecisionTreeClassifier(criterion='entropy', max_depth=i)\n",
    "    clf = clf.fit(X_train,y_train)\n",
    "    y_pred = clf.predict(X_test)\n",
    "    print(\"Depth: \",i,\" Accuracy:\",metrics.accuracy_score(y_test, y_pred))\n"
   ]
  },
  {
   "cell_type": "code",
   "execution_count": null,
   "id": "62b81aff",
   "metadata": {},
   "outputs": [],
   "source": [
    "features = []\n",
    "imports = []\n",
    "for feat, importance in zip(train_set_combined.columns, model.feature_importances_):\n",
    "    features.append(feat)\n",
    "    imports.append(importance)\n",
    "    print ('feature:', feat, 'importance: ',importance)"
   ]
  },
  {
   "cell_type": "code",
   "execution_count": null,
   "id": "809d9853",
   "metadata": {},
   "outputs": [],
   "source": [
    "featImportance=pd.DataFrame()\n",
    "featImportance['Feature']=features\n",
    "featImportance['Importance']=imports\n",
    "featImportance.sort_values(by='Importance').tail(10)"
   ]
  },
  {
   "cell_type": "code",
   "execution_count": null,
   "id": "cb8775c6",
   "metadata": {},
   "outputs": [],
   "source": [
    "rf_clf = RandomForestClassifier(n_estimators = 500)\n",
    "rf_clf.fit(X_train, y_train)\n",
    "rf_pred = rf_clf.predict(X_test)\n",
    "print(\"Accuracy: \",accuracy_score(rf_pred, y_test))"
   ]
  },
  {
   "cell_type": "code",
   "execution_count": null,
   "id": "545a9598",
   "metadata": {},
   "outputs": [],
   "source": [
    "features = []\n",
    "imports = []\n",
    "for feat, importance in zip(train_set_combined.columns, rf_clf.feature_importances_):\n",
    "    features.append(feat)\n",
    "    imports.append(importance)\n",
    "    print ('feature:', feat, 'importance: ',importance)\n",
    "featImportance=pd.DataFrame()\n",
    "featImportance['Feature']=features\n",
    "featImportance['Importance']=imports\n",
    "featImportance.sort_values(by='Importance').tail(10)"
   ]
  }
 ],
 "metadata": {
  "kernelspec": {
   "display_name": "Python 3",
   "language": "python",
   "name": "python3"
  },
  "language_info": {
   "codemirror_mode": {
    "name": "ipython",
    "version": 3
   },
   "file_extension": ".py",
   "mimetype": "text/x-python",
   "name": "python",
   "nbconvert_exporter": "python",
   "pygments_lexer": "ipython3",
   "version": "3.8.8"
  }
 },
 "nbformat": 4,
 "nbformat_minor": 5
}
